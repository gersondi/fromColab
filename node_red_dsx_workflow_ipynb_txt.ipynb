{
  "nbformat": 4,
  "nbformat_minor": 0,
  "metadata": {
    "kernelspec": {
      "display_name": "Python 3.5",
      "language": "python",
      "name": "python3"
    },
    "language_info": {
      "codemirror_mode": {
        "name": "ipython",
        "version": 3
      },
      "file_extension": ".py",
      "mimetype": "text/x-python",
      "name": "python",
      "nbconvert_exporter": "python",
      "pygments_lexer": "ipython3",
      "version": "3.5.4"
    },
    "colab": {
      "name": "node-red-dsx-workflow.ipynb.txt",
      "provenance": [],
      "include_colab_link": true
    }
  },
  "cells": [
    {
      "cell_type": "markdown",
      "metadata": {
        "id": "view-in-github",
        "colab_type": "text"
      },
      "source": [
        "<a href=\"https://colab.research.google.com/github/gersondi/fromColab/blob/master/node_red_dsx_workflow_ipynb_txt.ipynb\" target=\"_parent\"><img src=\"https://colab.research.google.com/assets/colab-badge.svg\" alt=\"Open In Colab\"/></a>"
      ]
    },
    {
      "cell_type": "markdown",
      "metadata": {
        "id": "c820G8TO6mgN",
        "colab_type": "text"
      },
      "source": [
        "# Derive insights on Olympics data using Python Pandas \n",
        "### <font color='blue'> Expose an integration point using websockets for orchestration with Node-RED.</font>"
      ]
    },
    {
      "cell_type": "markdown",
      "metadata": {
        "id": "2W6sqwqP6mgP",
        "colab_type": "text"
      },
      "source": [
        "## 1. Setup\n",
        "To prepare your environment, you need to install some packages.\n",
        "\n",
        "### 1.1 Install the necessary packages\n",
        "\n",
        "You need the latest versions of these packages:<br>\n",
        "- websocket-client: is a python client for the Websockets.<br>\n",
        "- python-swiftclient: is a python client for the Swift API.<br><br>\n",
        "\n",
        "** Install the websocket client: **"
      ]
    },
    {
      "cell_type": "code",
      "metadata": {
        "id": "V_176fYU6mgQ",
        "colab_type": "code",
        "colab": {
          "base_uri": "https://localhost:8080/",
          "height": 138
        },
        "outputId": "db1c3f78-9743-4846-f63a-c921bf06ec45"
      },
      "source": [
        "!pip install websocket-client"
      ],
      "execution_count": 1,
      "outputs": [
        {
          "output_type": "stream",
          "text": [
            "Collecting websocket-client\n",
            "\u001b[?25l  Downloading https://files.pythonhosted.org/packages/4c/5f/f61b420143ed1c8dc69f9eaec5ff1ac36109d52c80de49d66e0c36c3dfdf/websocket_client-0.57.0-py2.py3-none-any.whl (200kB)\n",
            "\r\u001b[K     |█▋                              | 10kB 15.3MB/s eta 0:00:01\r\u001b[K     |███▎                            | 20kB 2.1MB/s eta 0:00:01\r\u001b[K     |█████                           | 30kB 2.7MB/s eta 0:00:01\r\u001b[K     |██████▌                         | 40kB 3.0MB/s eta 0:00:01\r\u001b[K     |████████▏                       | 51kB 2.4MB/s eta 0:00:01\r\u001b[K     |█████████▉                      | 61kB 2.7MB/s eta 0:00:01\r\u001b[K     |███████████▍                    | 71kB 2.9MB/s eta 0:00:01\r\u001b[K     |█████████████                   | 81kB 3.1MB/s eta 0:00:01\r\u001b[K     |██████████████▊                 | 92kB 3.4MB/s eta 0:00:01\r\u001b[K     |████████████████▎               | 102kB 3.3MB/s eta 0:00:01\r\u001b[K     |██████████████████              | 112kB 3.3MB/s eta 0:00:01\r\u001b[K     |███████████████████▋            | 122kB 3.3MB/s eta 0:00:01\r\u001b[K     |█████████████████████▏          | 133kB 3.3MB/s eta 0:00:01\r\u001b[K     |██████████████████████▉         | 143kB 3.3MB/s eta 0:00:01\r\u001b[K     |████████████████████████▌       | 153kB 3.3MB/s eta 0:00:01\r\u001b[K     |██████████████████████████      | 163kB 3.3MB/s eta 0:00:01\r\u001b[K     |███████████████████████████▊    | 174kB 3.3MB/s eta 0:00:01\r\u001b[K     |█████████████████████████████▍  | 184kB 3.3MB/s eta 0:00:01\r\u001b[K     |███████████████████████████████ | 194kB 3.3MB/s eta 0:00:01\r\u001b[K     |████████████████████████████████| 204kB 3.3MB/s \n",
            "\u001b[?25hRequirement already satisfied: six in /usr/local/lib/python3.6/dist-packages (from websocket-client) (1.12.0)\n",
            "Installing collected packages: websocket-client\n",
            "Successfully installed websocket-client-0.57.0\n"
          ],
          "name": "stdout"
        }
      ]
    },
    {
      "cell_type": "markdown",
      "metadata": {
        "id": "iA3-qX266mgV",
        "colab_type": "text"
      },
      "source": [
        "** Install IBM Cloud Object Storage Client: **"
      ]
    },
    {
      "cell_type": "code",
      "metadata": {
        "scrolled": true,
        "id": "_9codAtp6mgX",
        "colab_type": "code",
        "colab": {
          "base_uri": "https://localhost:8080/",
          "height": 558
        },
        "outputId": "d98e4dbd-4044-4c03-ff1f-4cedfd4f3c53"
      },
      "source": [
        "!pip install ibm-cos-sdk"
      ],
      "execution_count": 2,
      "outputs": [
        {
          "output_type": "stream",
          "text": [
            "Collecting ibm-cos-sdk\n",
            "\u001b[?25l  Downloading https://files.pythonhosted.org/packages/fc/3e/87c6df874801a8327d36821d742e96987e21276671d6b669574d31fed9be/ibm-cos-sdk-2.6.3.tar.gz (54kB)\n",
            "\u001b[K     |████████████████████████████████| 61kB 2.2MB/s \n",
            "\u001b[?25hCollecting ibm-cos-sdk-core==2.6.3\n",
            "\u001b[?25l  Downloading https://files.pythonhosted.org/packages/60/22/b44dfb4e45bf14fd04c6e3964b9c353de7a503c2de25848b2cc60a8bbc2d/ibm-cos-sdk-core-2.6.3.tar.gz (823kB)\n",
            "\u001b[K     |████████████████████████████████| 829kB 7.9MB/s \n",
            "\u001b[?25hCollecting ibm-cos-sdk-s3transfer==2.6.3\n",
            "\u001b[?25l  Downloading https://files.pythonhosted.org/packages/72/3e/f204ebdb2f9cb8f6fb431226e39cc9cb2875567d400cf7c5bc9c9b309a2c/ibm-cos-sdk-s3transfer-2.6.3.tar.gz (218kB)\n",
            "\u001b[K     |████████████████████████████████| 225kB 15.8MB/s \n",
            "\u001b[?25hRequirement already satisfied: jmespath<1.0.0,>=0.7.1 in /usr/local/lib/python3.6/dist-packages (from ibm-cos-sdk) (0.10.0)\n",
            "Requirement already satisfied: docutils<0.16,>=0.10 in /usr/local/lib/python3.6/dist-packages (from ibm-cos-sdk-core==2.6.3->ibm-cos-sdk) (0.15.2)\n",
            "Requirement already satisfied: requests<3.0,>=2.18 in /usr/local/lib/python3.6/dist-packages (from ibm-cos-sdk-core==2.6.3->ibm-cos-sdk) (2.23.0)\n",
            "Requirement already satisfied: python-dateutil<3.0.0,>=2.1 in /usr/local/lib/python3.6/dist-packages (from ibm-cos-sdk-core==2.6.3->ibm-cos-sdk) (2.8.1)\n",
            "Requirement already satisfied: certifi>=2017.4.17 in /usr/local/lib/python3.6/dist-packages (from requests<3.0,>=2.18->ibm-cos-sdk-core==2.6.3->ibm-cos-sdk) (2020.6.20)\n",
            "Requirement already satisfied: idna<3,>=2.5 in /usr/local/lib/python3.6/dist-packages (from requests<3.0,>=2.18->ibm-cos-sdk-core==2.6.3->ibm-cos-sdk) (2.9)\n",
            "Requirement already satisfied: urllib3!=1.25.0,!=1.25.1,<1.26,>=1.21.1 in /usr/local/lib/python3.6/dist-packages (from requests<3.0,>=2.18->ibm-cos-sdk-core==2.6.3->ibm-cos-sdk) (1.24.3)\n",
            "Requirement already satisfied: chardet<4,>=3.0.2 in /usr/local/lib/python3.6/dist-packages (from requests<3.0,>=2.18->ibm-cos-sdk-core==2.6.3->ibm-cos-sdk) (3.0.4)\n",
            "Requirement already satisfied: six>=1.5 in /usr/local/lib/python3.6/dist-packages (from python-dateutil<3.0.0,>=2.1->ibm-cos-sdk-core==2.6.3->ibm-cos-sdk) (1.12.0)\n",
            "Building wheels for collected packages: ibm-cos-sdk, ibm-cos-sdk-core, ibm-cos-sdk-s3transfer\n",
            "  Building wheel for ibm-cos-sdk (setup.py) ... \u001b[?25l\u001b[?25hdone\n",
            "  Created wheel for ibm-cos-sdk: filename=ibm_cos_sdk-2.6.3-py2.py3-none-any.whl size=72509 sha256=4fced365f5349d2f73f903e29dc189845d625fa95a31b27c99085c5b1a5f4d1c\n",
            "  Stored in directory: /root/.cache/pip/wheels/23/c0/0b/6e7df83370c0fd314b4fe9aef6667e40178b31e7180dc69f26\n",
            "  Building wheel for ibm-cos-sdk-core (setup.py) ... \u001b[?25l\u001b[?25hdone\n",
            "  Created wheel for ibm-cos-sdk-core: filename=ibm_cos_sdk_core-2.6.3-py2.py3-none-any.whl size=500835 sha256=f8f14272d156688fefb17e7330bbc595e2f4067b37dd5caba0c877831712b24f\n",
            "  Stored in directory: /root/.cache/pip/wheels/f1/29/05/ab91fed96d22f69b37c4331f33b77f0f05df0c382bf5f09167\n",
            "  Building wheel for ibm-cos-sdk-s3transfer (setup.py) ... \u001b[?25l\u001b[?25hdone\n",
            "  Created wheel for ibm-cos-sdk-s3transfer: filename=ibm_cos_sdk_s3transfer-2.6.3-py2.py3-none-any.whl size=88602 sha256=b0ade2a82ab57571b085b455edcf953552d8c855e3fb7fb0851d63099d7b378b\n",
            "  Stored in directory: /root/.cache/pip/wheels/89/7d/0a/2ff0215b826ef7d5a5292a62d0f57144976d7dc61fe57f2445\n",
            "Successfully built ibm-cos-sdk ibm-cos-sdk-core ibm-cos-sdk-s3transfer\n",
            "Installing collected packages: ibm-cos-sdk-core, ibm-cos-sdk-s3transfer, ibm-cos-sdk\n",
            "Successfully installed ibm-cos-sdk-2.6.3 ibm-cos-sdk-core-2.6.3 ibm-cos-sdk-s3transfer-2.6.3\n"
          ],
          "name": "stdout"
        }
      ]
    },
    {
      "cell_type": "markdown",
      "metadata": {
        "id": "e4zsNl0T6mge",
        "colab_type": "text"
      },
      "source": [
        "### 1.2 Import packages and libraries\n",
        "\n",
        "Import the packages and libraries that you'll use:"
      ]
    },
    {
      "cell_type": "code",
      "metadata": {
        "id": "lyRM_sG76mgf",
        "colab_type": "code",
        "colab": {}
      },
      "source": [
        "import pandas as pd\n",
        "import matplotlib.pyplot as plt\n",
        "import json, types\n",
        "import websocket\n",
        "import _thread\n",
        "import time\n",
        "import ibm_boto3\n",
        "from botocore.client import Config\n",
        "import codecs\n",
        "from io import StringIO"
      ],
      "execution_count": 3,
      "outputs": []
    },
    {
      "cell_type": "markdown",
      "metadata": {
        "id": "ceirJYx06mgv",
        "colab_type": "text"
      },
      "source": [
        "## 2. Configuration\n",
        "\n",
        "Add configurable items of the notebook below"
      ]
    },
    {
      "cell_type": "markdown",
      "metadata": {
        "id": "tf4T-Qex6mg8",
        "colab_type": "text"
      },
      "source": [
        "### 2.1 Add your service credentials for Object Storage\n",
        "\n",
        "You must create Object Storage service on IBM Cloud.\n",
        "To access data in a file in Object Storage, you need the Object Storage authentication credentials.\n",
        "Insert the Object Storage authentication credentials as <i><b>credentials_1</b></i> in the following cell after \n",
        "removing the current contents in the cell. "
      ]
    },
    {
      "cell_type": "code",
      "metadata": {
        "id": "H_5Ka6LK6mg9",
        "colab_type": "code",
        "colab": {}
      },
      "source": [
        "# @hidden_cell\n",
        "# The following code contains the credentials for a file in your IBM Cloud Object Storage.\n",
        "# You might want to remove those credentials before you share your notebook.\n",
        "credentials_1 = {\n",
        "    'IBM_API_KEY_ID': '',\n",
        "    'IAM_SERVICE_ID': '',\n",
        "    'ENDPOINT': '',\n",
        "    'IBM_AUTH_ENDPOINT': '',\n",
        "    'BUCKET': '',\n",
        "    'FILE': ''\n",
        "}"
      ],
      "execution_count": 4,
      "outputs": []
    },
    {
      "cell_type": "markdown",
      "metadata": {
        "id": "saiuYJWN6mhE",
        "colab_type": "text"
      },
      "source": [
        "### 2.3 Global Variables\n",
        "\n",
        "Add global variables."
      ]
    },
    {
      "cell_type": "code",
      "metadata": {
        "id": "NUcMy1XB6mhF",
        "colab_type": "code",
        "colab": {}
      },
      "source": [
        "olympics_data_filename = 'olympics.csv'\n",
        "dictionary_data_filename = 'dictionary.csv'"
      ],
      "execution_count": 5,
      "outputs": []
    },
    {
      "cell_type": "markdown",
      "metadata": {
        "id": "lfXoiN6I6mhM",
        "colab_type": "text"
      },
      "source": [
        "# 3. Persistence and Storage"
      ]
    },
    {
      "cell_type": "markdown",
      "metadata": {
        "id": "4jQ6N2Qo6mhN",
        "colab_type": "text"
      },
      "source": [
        "### 3.1 Configure Object Storage Client"
      ]
    },
    {
      "cell_type": "code",
      "metadata": {
        "id": "qPydt0526mhO",
        "colab_type": "code",
        "colab": {
          "base_uri": "https://localhost:8080/",
          "height": 390
        },
        "outputId": "a5e8c06e-2fb6-445f-bdf4-a52e6508281f"
      },
      "source": [
        "cos = ibm_boto3.client('s3',\n",
        "                    ibm_api_key_id=credentials_1['IBM_API_KEY_ID'],\n",
        "                    ibm_service_instance_id=credentials_1['IAM_SERVICE_ID'],\n",
        "                    ibm_auth_endpoint=credentials_1['IBM_AUTH_ENDPOINT'],\n",
        "                    config=Config(signature_version='oauth'),\n",
        "                    endpoint_url=credentials_1['ENDPOINT'])\n",
        "\n",
        "def get_file(filename):\n",
        "    '''Retrieve file from Cloud Object Storage'''\n",
        "    fileobject = cos.get_object(Bucket=credentials_1['BUCKET'], Key=filename)['Body']\n",
        "    return fileobject\n",
        "\n",
        "def load_string(fileobject):\n",
        "    '''Load the file contents into a Python string'''\n",
        "    text = fileobject.read()\n",
        "    return text\n",
        "\n",
        "def put_file(filename, filecontents):\n",
        "    '''Write file to Cloud Object Storage'''\n",
        "    resp = cos.put_object(Bucket=credentials_1['BUCKET'], Key=filename, Body=filecontents)\n",
        "    return resp\n",
        "\n",
        "def __iter__(self): return 0"
      ],
      "execution_count": 6,
      "outputs": [
        {
          "output_type": "error",
          "ename": "ValueError",
          "evalue": "ignored",
          "traceback": [
            "\u001b[0;31m---------------------------------------------------------------------------\u001b[0m",
            "\u001b[0;31mValueError\u001b[0m                                Traceback (most recent call last)",
            "\u001b[0;32m<ipython-input-6-3340fc6dde54>\u001b[0m in \u001b[0;36m<module>\u001b[0;34m()\u001b[0m\n\u001b[1;32m      4\u001b[0m                     \u001b[0mibm_auth_endpoint\u001b[0m\u001b[0;34m=\u001b[0m\u001b[0mcredentials_1\u001b[0m\u001b[0;34m[\u001b[0m\u001b[0;34m'IBM_AUTH_ENDPOINT'\u001b[0m\u001b[0;34m]\u001b[0m\u001b[0;34m,\u001b[0m\u001b[0;34m\u001b[0m\u001b[0;34m\u001b[0m\u001b[0m\n\u001b[1;32m      5\u001b[0m                     \u001b[0mconfig\u001b[0m\u001b[0;34m=\u001b[0m\u001b[0mConfig\u001b[0m\u001b[0;34m(\u001b[0m\u001b[0msignature_version\u001b[0m\u001b[0;34m=\u001b[0m\u001b[0;34m'oauth'\u001b[0m\u001b[0;34m)\u001b[0m\u001b[0;34m,\u001b[0m\u001b[0;34m\u001b[0m\u001b[0;34m\u001b[0m\u001b[0m\n\u001b[0;32m----> 6\u001b[0;31m                     endpoint_url=credentials_1['ENDPOINT'])\n\u001b[0m\u001b[1;32m      7\u001b[0m \u001b[0;34m\u001b[0m\u001b[0m\n\u001b[1;32m      8\u001b[0m \u001b[0;32mdef\u001b[0m \u001b[0mget_file\u001b[0m\u001b[0;34m(\u001b[0m\u001b[0mfilename\u001b[0m\u001b[0;34m)\u001b[0m\u001b[0;34m:\u001b[0m\u001b[0;34m\u001b[0m\u001b[0;34m\u001b[0m\u001b[0m\n",
            "\u001b[0;32m/usr/local/lib/python3.6/dist-packages/ibm_boto3/__init__.py\u001b[0m in \u001b[0;36mclient\u001b[0;34m(*args, **kwargs)\u001b[0m\n\u001b[1;32m     91\u001b[0m     \u001b[0mSee\u001b[0m \u001b[0;34m:\u001b[0m\u001b[0mpy\u001b[0m\u001b[0;34m:\u001b[0m\u001b[0mmeth\u001b[0m\u001b[0;34m:\u001b[0m\u001b[0;31m`\u001b[0m\u001b[0mibm_boto3\u001b[0m\u001b[0;34m.\u001b[0m\u001b[0msession\u001b[0m\u001b[0;34m.\u001b[0m\u001b[0mSession\u001b[0m\u001b[0;34m.\u001b[0m\u001b[0mclient\u001b[0m\u001b[0;31m`\u001b[0m\u001b[0;34m.\u001b[0m\u001b[0;34m\u001b[0m\u001b[0;34m\u001b[0m\u001b[0m\n\u001b[1;32m     92\u001b[0m     \"\"\"\n\u001b[0;32m---> 93\u001b[0;31m     \u001b[0;32mreturn\u001b[0m \u001b[0m_get_default_session\u001b[0m\u001b[0;34m(\u001b[0m\u001b[0;34m)\u001b[0m\u001b[0;34m.\u001b[0m\u001b[0mclient\u001b[0m\u001b[0;34m(\u001b[0m\u001b[0;34m*\u001b[0m\u001b[0margs\u001b[0m\u001b[0;34m,\u001b[0m \u001b[0;34m**\u001b[0m\u001b[0mkwargs\u001b[0m\u001b[0;34m)\u001b[0m\u001b[0;34m\u001b[0m\u001b[0;34m\u001b[0m\u001b[0m\n\u001b[0m\u001b[1;32m     94\u001b[0m \u001b[0;34m\u001b[0m\u001b[0m\n\u001b[1;32m     95\u001b[0m \u001b[0;34m\u001b[0m\u001b[0m\n",
            "\u001b[0;32m/usr/local/lib/python3.6/dist-packages/ibm_boto3/session.py\u001b[0m in \u001b[0;36mclient\u001b[0;34m(self, service_name, region_name, api_version, use_ssl, verify, endpoint_url, aws_access_key_id, aws_secret_access_key, aws_session_token, ibm_api_key_id, ibm_service_instance_id, ibm_auth_endpoint, auth_function, token_manager, config)\u001b[0m\n\u001b[1;32m    322\u001b[0m             \u001b[0mibm_api_key_id\u001b[0m\u001b[0;34m=\u001b[0m\u001b[0mibm_api_key_id\u001b[0m\u001b[0;34m,\u001b[0m \u001b[0mibm_service_instance_id\u001b[0m\u001b[0;34m=\u001b[0m\u001b[0mibm_service_instance_id\u001b[0m\u001b[0;34m,\u001b[0m\u001b[0;34m\u001b[0m\u001b[0;34m\u001b[0m\u001b[0m\n\u001b[1;32m    323\u001b[0m             \u001b[0mibm_auth_endpoint\u001b[0m\u001b[0;34m=\u001b[0m\u001b[0mibm_auth_endpoint\u001b[0m\u001b[0;34m,\u001b[0m \u001b[0mauth_function\u001b[0m\u001b[0;34m=\u001b[0m\u001b[0mauth_function\u001b[0m\u001b[0;34m,\u001b[0m\u001b[0;34m\u001b[0m\u001b[0;34m\u001b[0m\u001b[0m\n\u001b[0;32m--> 324\u001b[0;31m             token_manager=token_manager, config=config)\n\u001b[0m\u001b[1;32m    325\u001b[0m \u001b[0;34m\u001b[0m\u001b[0m\n\u001b[1;32m    326\u001b[0m     def resource(self, service_name, region_name=None, api_version=None,\n",
            "\u001b[0;32m/usr/local/lib/python3.6/dist-packages/ibm_botocore/session.py\u001b[0m in \u001b[0;36mcreate_client\u001b[0;34m(self, service_name, region_name, api_version, use_ssl, verify, endpoint_url, aws_access_key_id, aws_secret_access_key, aws_session_token, ibm_api_key_id, ibm_service_instance_id, ibm_auth_endpoint, auth_function, token_manager, config)\u001b[0m\n\u001b[1;32m    894\u001b[0m             \u001b[0mis_secure\u001b[0m\u001b[0;34m=\u001b[0m\u001b[0muse_ssl\u001b[0m\u001b[0;34m,\u001b[0m \u001b[0mendpoint_url\u001b[0m\u001b[0;34m=\u001b[0m\u001b[0mendpoint_url\u001b[0m\u001b[0;34m,\u001b[0m \u001b[0mverify\u001b[0m\u001b[0;34m=\u001b[0m\u001b[0mverify\u001b[0m\u001b[0;34m,\u001b[0m\u001b[0;34m\u001b[0m\u001b[0;34m\u001b[0m\u001b[0m\n\u001b[1;32m    895\u001b[0m             \u001b[0mcredentials\u001b[0m\u001b[0;34m=\u001b[0m\u001b[0mcredentials\u001b[0m\u001b[0;34m,\u001b[0m \u001b[0mscoped_config\u001b[0m\u001b[0;34m=\u001b[0m\u001b[0mself\u001b[0m\u001b[0;34m.\u001b[0m\u001b[0mget_scoped_config\u001b[0m\u001b[0;34m(\u001b[0m\u001b[0;34m)\u001b[0m\u001b[0;34m,\u001b[0m\u001b[0;34m\u001b[0m\u001b[0;34m\u001b[0m\u001b[0m\n\u001b[0;32m--> 896\u001b[0;31m             client_config=config, api_version=api_version)\n\u001b[0m\u001b[1;32m    897\u001b[0m         \u001b[0mmonitor\u001b[0m \u001b[0;34m=\u001b[0m \u001b[0mself\u001b[0m\u001b[0;34m.\u001b[0m\u001b[0m_get_internal_component\u001b[0m\u001b[0;34m(\u001b[0m\u001b[0;34m'monitor'\u001b[0m\u001b[0;34m)\u001b[0m\u001b[0;34m\u001b[0m\u001b[0;34m\u001b[0m\u001b[0m\n\u001b[1;32m    898\u001b[0m         \u001b[0;32mif\u001b[0m \u001b[0mmonitor\u001b[0m \u001b[0;32mis\u001b[0m \u001b[0;32mnot\u001b[0m \u001b[0;32mNone\u001b[0m\u001b[0;34m:\u001b[0m\u001b[0;34m\u001b[0m\u001b[0;34m\u001b[0m\u001b[0m\n",
            "\u001b[0;32m/usr/local/lib/python3.6/dist-packages/ibm_botocore/client.py\u001b[0m in \u001b[0;36mcreate_client\u001b[0;34m(self, service_name, region_name, is_secure, endpoint_url, verify, credentials, scoped_config, api_version, client_config)\u001b[0m\n\u001b[1;32m     83\u001b[0m         client_args = self._get_client_args(\n\u001b[1;32m     84\u001b[0m             \u001b[0mservice_model\u001b[0m\u001b[0;34m,\u001b[0m \u001b[0mregion_name\u001b[0m\u001b[0;34m,\u001b[0m \u001b[0mis_secure\u001b[0m\u001b[0;34m,\u001b[0m \u001b[0mendpoint_url\u001b[0m\u001b[0;34m,\u001b[0m\u001b[0;34m\u001b[0m\u001b[0;34m\u001b[0m\u001b[0m\n\u001b[0;32m---> 85\u001b[0;31m             verify, credentials, scoped_config, client_config, endpoint_bridge)\n\u001b[0m\u001b[1;32m     86\u001b[0m         \u001b[0mservice_client\u001b[0m \u001b[0;34m=\u001b[0m \u001b[0mcls\u001b[0m\u001b[0;34m(\u001b[0m\u001b[0;34m**\u001b[0m\u001b[0mclient_args\u001b[0m\u001b[0;34m)\u001b[0m\u001b[0;34m\u001b[0m\u001b[0;34m\u001b[0m\u001b[0m\n\u001b[1;32m     87\u001b[0m         \u001b[0mself\u001b[0m\u001b[0;34m.\u001b[0m\u001b[0m_register_retries\u001b[0m\u001b[0;34m(\u001b[0m\u001b[0mservice_client\u001b[0m\u001b[0;34m)\u001b[0m\u001b[0;34m\u001b[0m\u001b[0;34m\u001b[0m\u001b[0m\n",
            "\u001b[0;32m/usr/local/lib/python3.6/dist-packages/ibm_botocore/client.py\u001b[0m in \u001b[0;36m_get_client_args\u001b[0;34m(self, service_model, region_name, is_secure, endpoint_url, verify, credentials, scoped_config, client_config, endpoint_bridge)\u001b[0m\n\u001b[1;32m    285\u001b[0m         return args_creator.get_client_args(\n\u001b[1;32m    286\u001b[0m             \u001b[0mservice_model\u001b[0m\u001b[0;34m,\u001b[0m \u001b[0mregion_name\u001b[0m\u001b[0;34m,\u001b[0m \u001b[0mis_secure\u001b[0m\u001b[0;34m,\u001b[0m \u001b[0mendpoint_url\u001b[0m\u001b[0;34m,\u001b[0m\u001b[0;34m\u001b[0m\u001b[0;34m\u001b[0m\u001b[0m\n\u001b[0;32m--> 287\u001b[0;31m             verify, credentials, scoped_config, client_config, endpoint_bridge)\n\u001b[0m\u001b[1;32m    288\u001b[0m \u001b[0;34m\u001b[0m\u001b[0m\n\u001b[1;32m    289\u001b[0m     \u001b[0;32mdef\u001b[0m \u001b[0m_create_methods\u001b[0m\u001b[0;34m(\u001b[0m\u001b[0mself\u001b[0m\u001b[0;34m,\u001b[0m \u001b[0mservice_model\u001b[0m\u001b[0;34m)\u001b[0m\u001b[0;34m:\u001b[0m\u001b[0;34m\u001b[0m\u001b[0;34m\u001b[0m\u001b[0m\n",
            "\u001b[0;32m/usr/local/lib/python3.6/dist-packages/ibm_botocore/args.py\u001b[0m in \u001b[0;36mget_client_args\u001b[0;34m(self, service_model, region_name, is_secure, endpoint_url, verify, credentials, scoped_config, client_config, endpoint_bridge)\u001b[0m\n\u001b[1;32m    105\u001b[0m             \u001b[0mtimeout\u001b[0m\u001b[0;34m=\u001b[0m\u001b[0;34m(\u001b[0m\u001b[0mnew_config\u001b[0m\u001b[0;34m.\u001b[0m\u001b[0mconnect_timeout\u001b[0m\u001b[0;34m,\u001b[0m \u001b[0mnew_config\u001b[0m\u001b[0;34m.\u001b[0m\u001b[0mread_timeout\u001b[0m\u001b[0;34m)\u001b[0m\u001b[0;34m,\u001b[0m\u001b[0;34m\u001b[0m\u001b[0;34m\u001b[0m\u001b[0m\n\u001b[1;32m    106\u001b[0m             \u001b[0msocket_options\u001b[0m\u001b[0;34m=\u001b[0m\u001b[0msocket_options\u001b[0m\u001b[0;34m,\u001b[0m\u001b[0;34m\u001b[0m\u001b[0;34m\u001b[0m\u001b[0m\n\u001b[0;32m--> 107\u001b[0;31m             client_cert=new_config.client_cert)\n\u001b[0m\u001b[1;32m    108\u001b[0m \u001b[0;34m\u001b[0m\u001b[0m\n\u001b[1;32m    109\u001b[0m         serializer = ibm_botocore.serialize.create_serializer(\n",
            "\u001b[0;32m/usr/local/lib/python3.6/dist-packages/ibm_botocore/endpoint.py\u001b[0m in \u001b[0;36mcreate_endpoint\u001b[0;34m(self, service_model, region_name, endpoint_url, verify, response_parser_factory, timeout, max_pool_connections, http_session_cls, proxies, socket_options, client_cert)\u001b[0m\n\u001b[1;32m    259\u001b[0m         \u001b[0;32mif\u001b[0m \u001b[0;32mnot\u001b[0m \u001b[0mis_valid_endpoint_url\u001b[0m\u001b[0;34m(\u001b[0m\u001b[0mendpoint_url\u001b[0m\u001b[0;34m)\u001b[0m\u001b[0;34m:\u001b[0m\u001b[0;34m\u001b[0m\u001b[0;34m\u001b[0m\u001b[0m\n\u001b[1;32m    260\u001b[0m \u001b[0;34m\u001b[0m\u001b[0m\n\u001b[0;32m--> 261\u001b[0;31m             \u001b[0;32mraise\u001b[0m \u001b[0mValueError\u001b[0m\u001b[0;34m(\u001b[0m\u001b[0;34m\"Invalid endpoint: %s\"\u001b[0m \u001b[0;34m%\u001b[0m \u001b[0mendpoint_url\u001b[0m\u001b[0;34m)\u001b[0m\u001b[0;34m\u001b[0m\u001b[0;34m\u001b[0m\u001b[0m\n\u001b[0m\u001b[1;32m    262\u001b[0m         \u001b[0;32mif\u001b[0m \u001b[0mproxies\u001b[0m \u001b[0;32mis\u001b[0m \u001b[0;32mNone\u001b[0m\u001b[0;34m:\u001b[0m\u001b[0;34m\u001b[0m\u001b[0;34m\u001b[0m\u001b[0m\n\u001b[1;32m    263\u001b[0m             \u001b[0mproxies\u001b[0m \u001b[0;34m=\u001b[0m \u001b[0mself\u001b[0m\u001b[0;34m.\u001b[0m\u001b[0m_get_proxies\u001b[0m\u001b[0;34m(\u001b[0m\u001b[0mendpoint_url\u001b[0m\u001b[0;34m)\u001b[0m\u001b[0;34m\u001b[0m\u001b[0;34m\u001b[0m\u001b[0m\n",
            "\u001b[0;31mValueError\u001b[0m: Invalid endpoint: "
          ]
        }
      ]
    },
    {
      "cell_type": "markdown",
      "metadata": {
        "id": "-igDyEBY6mhW",
        "colab_type": "text"
      },
      "source": [
        "# 4. Data "
      ]
    },
    {
      "cell_type": "markdown",
      "metadata": {
        "id": "lUGw9k7_6mhX",
        "colab_type": "text"
      },
      "source": [
        "### 4.1 Prepare data\n",
        "Combine the olympics and dictionary data into a single dataframe:\n",
        "- Read olympics data from Object Storage.<br>\n",
        "- Rename columns<br>\n",
        "- Populate the data in the dictionary to the Olympics data with a merge<br><br>"
      ]
    },
    {
      "cell_type": "code",
      "metadata": {
        "scrolled": false,
        "id": "SdQvIeku6mhZ",
        "colab_type": "code",
        "colab": {}
      },
      "source": [
        "body = get_file(olympics_data_filename)\n",
        "# add missing __iter__ method, so pandas accepts body as file-like object\n",
        "if not hasattr(body, \"__iter__\"): body.__iter__ = types.MethodType( __iter__, body )\n",
        "olympics = pd.read_csv(body)\n",
        "olympics = olympics.rename(columns = {'Country':'Code'})\n",
        "olympics = olympics.rename(columns = {'Year':'Edition'})\n",
        "body = get_file(dictionary_data_filename)\n",
        "# add missing __iter__ method, so pandas accepts body as file-like object\n",
        "if not hasattr(body, \"__iter__\"): body.__iter__ = types.MethodType( __iter__, body )\n",
        "dictionary = pd.read_csv(body)\n",
        "olympics = pd.merge(olympics, dictionary, on='Code')\n",
        "olympics.head()"
      ],
      "execution_count": null,
      "outputs": []
    },
    {
      "cell_type": "markdown",
      "metadata": {
        "id": "SZdOrx-Z6mhi",
        "colab_type": "text"
      },
      "source": [
        "# 5. Insights on the data using Python Pandas\n",
        "- Create re-usable functions"
      ]
    },
    {
      "cell_type": "code",
      "metadata": {
        "id": "zCiwN7P06mhm",
        "colab_type": "code",
        "colab": {}
      },
      "source": [
        "def get_medals_gb_year_country():\n",
        "    \"\"\" Group by edition and country and sum medals count.\n",
        "    \"\"\"\n",
        "    medals_groupedBy_yearCountry = olympics.groupby(['Edition','Code']).apply(lambda country: country['Code'].count())\n",
        "    return medals_groupedBy_yearCountry\n",
        "\n",
        "def get_medals_gb_year_country_medal():\n",
        "    \"\"\" Group by edition, country, medal type and sum medals count.\n",
        "    \"\"\"\n",
        "    medals_groupedBy_yearCountryMedal = olympics.groupby(['Edition', 'Code', 'Medal']).apply(lambda country: country['Medal'].count())\n",
        "    return medals_groupedBy_yearCountryMedal\n",
        "\n",
        "def get_medals_last_10_years(countrycode):\n",
        "    \"\"\" Get Gold, Silver and Bronze medals for a country for last 10 editions.\n",
        "    \"\"\"\n",
        "    last10pics = olympics['Edition'].unique()\n",
        "    yrs = pd.Series(last10pics).nlargest(10)\n",
        "    df = pd.DataFrame([], columns=['Year', 'Gold', 'Silver', 'Bronze'])\n",
        "    medalsdf = get_medals_gb_year_country_medal()\n",
        "   \n",
        "    for yr in yrs:\n",
        "        medaltally = medalsdf[yr][countrycode]\n",
        "        gold = 0\n",
        "        silver = 0\n",
        "        bronze = 0\n",
        "        if 'Gold' in medaltally:\n",
        "            gold = medaltally['Gold']\n",
        "        if 'Silver' in medaltally:\n",
        "            silver = medaltally['Silver']\n",
        "        if 'Bronze' in medaltally:\n",
        "            bronze =  medaltally['Bronze']\n",
        "        df1 = pd.DataFrame([[yr,gold, silver, bronze]], columns=['Year', 'Gold', 'Silver', 'Bronze'])\n",
        "        df = df.append(df1, ignore_index=True) \n",
        "    df = df.sort_values(by=['Year'], ascending=True)    \n",
        "    df = df.reset_index()\n",
        "    del df['index']\n",
        "    return df\n",
        "\n",
        "def get_correlation_medalstally():\n",
        "    \"\"\" Get correlation between the medals tally and population, GDP per capita.\n",
        "    \"\"\"\n",
        "    df = get_medals_gb_year_country()\n",
        "    values  = get_all_olympic_years().values\n",
        "    size = values.size\n",
        "    correlations = []\n",
        "    for i in range(size):\n",
        "        year = values[i][0]\n",
        "        df1 = df[year].to_frame(name=\"Tally\")\n",
        "        df1 = df1.reset_index()\n",
        "        df2 = pd.merge(df1,dictionary, on='Code')\n",
        "        corrpop = df2.corr().values[0][1]\n",
        "        corrgdp = df2.corr().values[0][2]\n",
        "        resp = {\"Year\": year, \"Population\":corrpop, \"GDP\":corrgdp}\n",
        "        correlations.append(resp)\n",
        "    return correlations  \n",
        "\n",
        "def get_medals_category(countrycode, year):\n",
        "    \"\"\" Get the medals count in different sports category for a country in an edition.\n",
        "    \"\"\"\n",
        "    df = olympics[olympics['Edition'] ==  year]\n",
        "    df1 = df[df['Code'] == countrycode]\n",
        "    df2 = df1.groupby(['Sport']).apply(lambda country: country['Medal'].count())\n",
        "    return df2\n",
        "\n",
        "def get_medals_category_all(countrycode):  \n",
        "    \"\"\" Get the medals count in different sports category for a country for last ten editions.\n",
        "    \"\"\"\n",
        "    df1 = olympics[olympics['Code'] == countrycode]\n",
        "    df2 = df1.groupby(['Sport']).apply(lambda country: country['Medal'].count())\n",
        "    return df2\n",
        "\n",
        "def get_top_ten_gold_tally(year):\n",
        "    \"\"\" Get the top ten gold medal winning countries in an edition.\n",
        "    \"\"\"\n",
        "    df = olympics[olympics['Edition'] ==  year]\n",
        "    df1 = df[df['Medal'] == 'Gold']\n",
        "    df2 = df1.groupby(['Code']).apply(lambda country: country['Medal'].count())\n",
        "    return df2\n",
        "\n",
        "def get_top_ten_total_tally(year):\n",
        "    \"\"\" Get the top ten total medal winning countries in an edition.\n",
        "    \"\"\"\n",
        "    df = olympics[olympics['Edition'] ==  year]\n",
        "    df1 = df.groupby(['Code']).apply(lambda country: country['Medal'].count())\n",
        "    return df1\n",
        "\n",
        "def get_year_venue():\n",
        "    \"\"\" Get edition venue matrix.\n",
        "    \"\"\"\n",
        "    df = olympics[['Edition', 'City']]\n",
        "    df = df.drop_duplicates()\n",
        "    df = df.reset_index()\n",
        "    df = df.set_index('Edition')\n",
        "    del df['index']\n",
        "    return df.sort_index()\n",
        "\n",
        "def get_all_olympic_years():\n",
        "    \"\"\" Get list of all olympic editions.\n",
        "    \"\"\"\n",
        "    df = olympics['Edition']\n",
        "    df = df.drop_duplicates()\n",
        "    df = df.reset_index()\n",
        "    del df['index']\n",
        "    return df.sort_index()\n",
        "\n",
        "def get_all_countries():\n",
        "    \"\"\" Get list of all countries.\n",
        "    \"\"\"\n",
        "    df = olympics[['Code','Country']]\n",
        "    df = df.drop_duplicates()\n",
        "    df = df.reset_index()\n",
        "    del df['index']\n",
        "    return df.sort(['Country'],ascending=[True])\n",
        "\n",
        "def get_country_edition_data(countrycode,edition):\n",
        "    \"\"\" Get data for a country and edition.\n",
        "    \"\"\"\n",
        "    df = olympics[olympics[\"Code\"] == countrycode]\n",
        "    df1 = df[df[\"Edition\"] == edition]\n",
        "    return df1"
      ],
      "execution_count": null,
      "outputs": []
    },
    {
      "cell_type": "markdown",
      "metadata": {
        "id": "-W8HdDjx6mhv",
        "colab_type": "text"
      },
      "source": [
        "# 6. Expose integration point with a websocket client "
      ]
    },
    {
      "cell_type": "code",
      "metadata": {
        "id": "4hSBGzr76mhx",
        "colab_type": "code",
        "colab": {}
      },
      "source": [
        "def on_message(ws, message):\n",
        "    print(message)\n",
        "    msg = json.loads(message)\n",
        "    cmd = msg['cmd']\n",
        "    \n",
        "    if cmd == 'MBY':\n",
        "        country = msg['country']\n",
        "        tally = get_medals_last_10_years(country)    \n",
        "        tallyarray=[]\n",
        "        for i, row in tally.iterrows():\n",
        "            medaltally = {\"Year\":int(row[\"Year\"]),\n",
        "                          \"Gold\":int(row[\"Gold\"]),\n",
        "                          \"Silver\":int(row[\"Silver\"]),\n",
        "                          \"Bronze\":int(row[\"Bronze\"])}\n",
        "            tallyarray.append(medaltally)\n",
        "        wsresponse = {}\n",
        "        wsresponse[\"forcmd\"] = \"MBY\" \n",
        "        wsresponse[\"response\"] = tallyarray\n",
        "        ws.send(json.dumps(wsresponse))\n",
        "    elif cmd == 'MBSC':\n",
        "        country = msg['country']\n",
        "        year = 2008\n",
        "        response = get_medals_category(country, year)\n",
        "        \n",
        "        ct = response.count()\n",
        "        if ct > 5:\n",
        "            response = response.nlargest(5)    \n",
        "        \n",
        "        medals = []\n",
        "        categories = []\n",
        "        for i, row in response.iteritems():\n",
        "            categories.append(i)\n",
        "            medals.append(row)   \n",
        "  \n",
        "        wsresponse = {}\n",
        "        wsresponse[\"forcmd\"] = \"MBSC\"\n",
        "        wsresponse[\"response\"] = { \"categories\":categories, \"medals\":medals}         \n",
        "        ws.send(json.dumps(wsresponse))\n",
        "    elif cmd == 'MBSA':\n",
        "        country = msg['country']\n",
        "        response = get_medals_category_all(country)\n",
        "        \n",
        "        ct = response.count()\n",
        "        if ct > 5:\n",
        "            response = response.nlargest(5)    \n",
        "        \n",
        "        medals = []\n",
        "        categories = []\n",
        "        for i, row in response.iteritems():\n",
        "            categories.append(i)\n",
        "            medals.append(row)   \n",
        "  \n",
        "        wsresponse = {}\n",
        "        wsresponse[\"forcmd\"] = \"MBSA\"\n",
        "        wsresponse[\"response\"] = { \"categories\":categories, \"medals\":medals}         \n",
        "        ws.send(json.dumps(wsresponse))    \n",
        "    elif cmd == 'T10G':\n",
        "        edition = msg[\"edition\"]\n",
        "        response = get_top_ten_gold_tally(edition)\n",
        "        ct = response.count()\n",
        "        if ct > 10:\n",
        "            response = response.nlargest(10)\n",
        "        medals = []\n",
        "        for i, row in response.iteritems():\n",
        "            data = {\"country\":i,\"tally\":row}\n",
        "            medals.append(data)  \n",
        "        wsresponse = {}\n",
        "        wsresponse[\"forcmd\"] = \"T10G\"\n",
        "        wsresponse[\"response\"] = medals   \n",
        "        print(wsresponse)\n",
        "        ws.send(json.dumps(wsresponse))     \n",
        "    elif cmd == 'T10M':\n",
        "        year = msg[\"edition\"]\n",
        "        response = get_top_ten_total_tally(year)\n",
        "        ct = response.count()\n",
        "        if ct > 10:\n",
        "            response = response.nlargest(10)\n",
        "        medals = []\n",
        "        for i, row in response.iteritems():\n",
        "            data = {\"country\":i,\"tally\":row}\n",
        "            medals.append(data)  \n",
        "        wsresponse = {}\n",
        "        wsresponse[\"forcmd\"] = \"T10M\"\n",
        "        wsresponse[\"response\"] = medals   \n",
        "        print(wsresponse)\n",
        "        ws.send(json.dumps(wsresponse)) \n",
        "    elif cmd == 'CORR':\n",
        "        corr = get_correlation_medalstally() \n",
        "        wsresponse = {}\n",
        "        wsresponse[\"forcmd\"] = \"CORR\"\n",
        "        wsresponse[\"response\"] = corr\n",
        "        ws.send(json.dumps(wsresponse)) \n",
        "    elif cmd == 'YV':   \n",
        "        yearvenue = get_year_venue()\n",
        "        yearvenuearray = []\n",
        "        for i in range(yearvenue.size):\n",
        "            value = {\"Year\":yearvenue.index[i],\"Venue\":yearvenue.values[i].tolist()[0]}\n",
        "            yearvenuearray.append(value)\n",
        "        responsejson = {}\n",
        "        responsejson[\"forcmd\"]=\"YV\"\n",
        "        responsejson[\"response\"]=yearvenuearray\n",
        "        ws.send(json.dumps(responsejson))               \n",
        "    elif cmd == 'DATA':\n",
        "        country = msg['country']\n",
        "        edition = msg['edition']\n",
        "        olympicsslice = get_country_edition_data(country,edition)\n",
        "        data = []\n",
        "        numofcolumns = olympicsslice.columns.size\n",
        "        cols = []\n",
        "        values = []\n",
        "        for column in olympicsslice.columns:\n",
        "            cols.append(column)\n",
        "        for value in olympicsslice.values:\n",
        "            values.append(value.tolist()) \n",
        "        data = {\"cols\":cols,\"vals\":values}    \n",
        "        responsejson = {}\n",
        "        responsejson['forcmd']='DATA'\n",
        "        responsejson['response']= data\n",
        "        ws.send(json.dumps(responsejson)) \n",
        "    elif cmd == 'EDITIONS':\n",
        "        years = get_all_olympic_years()\n",
        "        yearsarray = []\n",
        "        for i,row in years.iteritems():\n",
        "            for value in row:\n",
        "                yearsarray.append(value)\n",
        "        length = len(yearsarray)\n",
        "        wsresponse = []\n",
        "        for i in range(length):\n",
        "            year = {\"text\":yearsarray[i],\"value\":yearsarray[i]}\n",
        "            wsresponse.append(year)\n",
        "        responsejson = {}\n",
        "        responsejson['forcmd']='EDITIONS'\n",
        "        responsejson['response']= wsresponse \n",
        "        ws.send(json.dumps(responsejson)) \n",
        "    elif cmd == 'COUNTRIES':\n",
        "        countries = get_all_countries()\n",
        "        countriesarray = []\n",
        "        codearray = []\n",
        "        for i,row in countries.iteritems():\n",
        "            if i=='Code':\n",
        "                for value in row:\n",
        "                    codearray.append(value)\n",
        "            elif i=='Country':  \n",
        "                for value in row:\n",
        "                    countriesarray.append(value)\n",
        "        length = len(codearray)\n",
        "        wsresponse = []\n",
        "        for i in range(length):\n",
        "            country = {\"text\":countriesarray[i],\"value\":codearray[i]}\n",
        "            wsresponse.append(country)\n",
        "        responsejson = {}\n",
        "        responsejson['forcmd']='COUNTRIES'\n",
        "        responsejson['response']= wsresponse \n",
        "        ws.send(json.dumps(responsejson))  \n",
        "\n",
        "def on_error(ws, error):\n",
        "    print(error)\n",
        "\n",
        "def on_close(ws):\n",
        "    ws.send(\"DSX Listen End\")\n",
        "\n",
        "def on_open(ws):\n",
        "    def run(*args):\n",
        "        for i in range(10000):\n",
        "            hbeat = '{\"cmd\":\"Olympics DSX HeartBeat\"}'\n",
        "            ws.send(hbeat)\n",
        "            time.sleep(100)\n",
        "            \n",
        "    _thread.start_new_thread(run, ())\n",
        "\n",
        "\n",
        "def start_websocket_listener():\n",
        "    websocket.enableTrace(True)\n",
        "    ws = websocket.WebSocketApp(\"ws://NODERED_BASE_URL/ws/orchestrate\",\n",
        "                              on_message = on_message,\n",
        "                              on_error = on_error,\n",
        "                              on_close = on_close)\n",
        "    ws.on_open = on_open\n",
        "    ws.run_forever()"
      ],
      "execution_count": null,
      "outputs": []
    },
    {
      "cell_type": "markdown",
      "metadata": {
        "id": "s6cRXmoe6mh3",
        "colab_type": "text"
      },
      "source": [
        "# 7. Start websocket client"
      ]
    },
    {
      "cell_type": "code",
      "metadata": {
        "scrolled": false,
        "id": "tsGPAJST6mh4",
        "colab_type": "code",
        "colab": {}
      },
      "source": [
        "start_websocket_listener()"
      ],
      "execution_count": null,
      "outputs": []
    }
  ]
}